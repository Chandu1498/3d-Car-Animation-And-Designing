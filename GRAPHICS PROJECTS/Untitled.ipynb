{
 "cells": [
  {
   "cell_type": "code",
   "execution_count": 2,
   "metadata": {},
   "outputs": [
    {
     "data": {
      "text/plain": [
       "<rect(0, 0, 800, 600)>"
      ]
     },
     "execution_count": 2,
     "metadata": {},
     "output_type": "execute_result"
    }
   ],
   "source": [
    "import pygame\n",
    "\n",
    "pygame.init()\n",
    "\n",
    "white = (255,255,255)\n",
    "black = (0,0,0)\n",
    "\n",
    "red = (255,0,0)\n",
    "green = (0,255,0)\n",
    "blue = (0,0,255)\n",
    "\n",
    "gameDisplay = pygame.display.set_mode((800,600))\n",
    "gameDisplay.fill(white)"
   ]
  },
  {
   "cell_type": "code",
   "execution_count": null,
   "metadata": {},
   "outputs": [
    {
     "name": "stdout",
     "output_type": "stream",
     "text": [
      "pygame 1.9.4\n",
      "Hello from the pygame community. https://www.pygame.org/contribute.html\n"
     ]
    }
   ],
   "source": [
    "import pygame\n",
    "from pygame.locals import *\n",
    "\n",
    "pygame.init()\n",
    "screen = pygame.display.set_mode((640, 480), 0, 24)\n",
    "#clock = pygame.time.Clock()\n",
    "\n",
    "#font = pygame.font.Font(None, 32)\n",
    "\n",
    "cycles = 0\n",
    "while True:\n",
    "    screen.fill(0)\n",
    "#    text = font.render('Cycles : %d' % cycles, True, (255, 255, 255))\n",
    "#    screen.blit(text, (100, 100))\n",
    "\n",
    "    cycles += 1\n",
    "\n",
    "    pygame.display.update()"
   ]
  },
  {
   "cell_type": "code",
   "execution_count": 1,
   "metadata": {},
   "outputs": [
    {
     "name": "stdout",
     "output_type": "stream",
     "text": [
      "pygame 1.9.4\n",
      "Hello from the pygame community. https://www.pygame.org/contribute.html\n",
      "<Event(17-VideoExpose {})>\n",
      "<Event(16-VideoResize {'size': (800, 600), 'w': 800, 'h': 600})>\n",
      "<Event(1-ActiveEvent {'gain': 0, 'state': 1})>\n",
      "<Event(4-MouseMotion {'pos': (597, 468), 'rel': (598, 469), 'buttons': (0, 0, 0)})>\n"
     ]
    }
   ],
   "source": [
    "import pygame\n",
    "import threading\n",
    "import time\n",
    "\n",
    "\n",
    "class EventHandler(threading.Thread):\n",
    "\n",
    "    def run(self):\n",
    "        while True:\n",
    "            for event in pygame.event.get():\n",
    "                print(event)\n",
    "                if event.type == pygame.QUIT:\n",
    "                    pygame.quit()\n",
    "                    quit()\n",
    "\n",
    "gameInit = pygame.init()\n",
    "\n",
    "red = (255, 0, 0)\n",
    "green = (0, 255, 0)\n",
    "blue = (0, 0, 255)\n",
    "\n",
    "gameDisplay = pygame.display.set_mode((800, 600))\n",
    "\n",
    "def main_loop():\n",
    "    while True:\n",
    "        gameDisplay.fill(red)\n",
    "        pygame.display.update()\n",
    "        time.sleep(0.4)\n",
    "        gameDisplay.fill(green)\n",
    "        pygame.display.update()\n",
    "        time.sleep(0.4)\n",
    "        gameDisplay.fill(blue)\n",
    "        pygame.display.update()\n",
    "        time.sleep(0.4)\n",
    "\n",
    "handler = EventHandler()\n",
    "handler.start()\n",
    "t = threading.Thread(target=main_loop)\n",
    "t.start()"
   ]
  },
  {
   "cell_type": "code",
   "execution_count": null,
   "metadata": {},
   "outputs": [
    {
     "name": "stdout",
     "output_type": "stream",
     "text": [
      "pygame 1.9.4\n",
      "Hello from the pygame community. https://www.pygame.org/contribute.html\n"
     ]
    },
    {
     "ename": "error",
     "evalue": "display Surface quit",
     "output_type": "error",
     "traceback": [
      "\u001b[1;31m---------------------------------------------------------------------------\u001b[0m",
      "\u001b[1;31merror\u001b[0m                                     Traceback (most recent call last)",
      "\u001b[1;32m<ipython-input-1-c1b9c68da504>\u001b[0m in \u001b[0;36m<module>\u001b[1;34m()\u001b[0m\n\u001b[0;32m    103\u001b[0m \u001b[1;33m\u001b[0m\u001b[0m\n\u001b[0;32m    104\u001b[0m \u001b[1;33m\u001b[0m\u001b[0m\n\u001b[1;32m--> 105\u001b[1;33m \u001b[0mgame_loop\u001b[0m\u001b[1;33m(\u001b[0m\u001b[1;33m)\u001b[0m\u001b[1;33m\u001b[0m\u001b[0m\n\u001b[0m\u001b[0;32m    106\u001b[0m \u001b[0mpygame\u001b[0m\u001b[1;33m.\u001b[0m\u001b[0mquit\u001b[0m\u001b[1;33m(\u001b[0m\u001b[1;33m)\u001b[0m\u001b[1;33m\u001b[0m\u001b[0m\n\u001b[0;32m    107\u001b[0m \u001b[0mquit\u001b[0m\u001b[1;33m(\u001b[0m\u001b[1;33m)\u001b[0m\u001b[1;33m\u001b[0m\u001b[0m\n",
      "\u001b[1;32m<ipython-input-1-c1b9c68da504>\u001b[0m in \u001b[0;36mgame_loop\u001b[1;34m()\u001b[0m\n\u001b[0;32m     82\u001b[0m \u001b[1;33m\u001b[0m\u001b[0m\n\u001b[0;32m     83\u001b[0m         \u001b[0mx\u001b[0m \u001b[1;33m+=\u001b[0m \u001b[0mx_change\u001b[0m\u001b[1;33m\u001b[0m\u001b[0m\n\u001b[1;32m---> 84\u001b[1;33m         \u001b[0mgameDisplay\u001b[0m\u001b[1;33m.\u001b[0m\u001b[0mfill\u001b[0m\u001b[1;33m(\u001b[0m\u001b[0mwhite\u001b[0m\u001b[1;33m)\u001b[0m\u001b[1;33m\u001b[0m\u001b[0m\n\u001b[0m\u001b[0;32m     85\u001b[0m \u001b[1;33m\u001b[0m\u001b[0m\n\u001b[0;32m     86\u001b[0m      \u001b[1;31m##########\u001b[0m\u001b[1;33m\u001b[0m\u001b[1;33m\u001b[0m\u001b[0m\n",
      "\u001b[1;31merror\u001b[0m: display Surface quit"
     ]
    }
   ],
   "source": [
    "import pygame\n",
    "import time\n",
    "import random\n",
    "\n",
    "pygame.init()\n",
    "\n",
    "display_width = 800\n",
    "display_height = 600\n",
    "\n",
    "black = (0,0,0)\n",
    "white = (255,255,255)\n",
    "red = (255,0,0)\n",
    "\n",
    "car_width = 73\n",
    "\n",
    "gameDisplay = pygame.display.set_mode((display_width,display_height))\n",
    "pygame.display.set_caption('A bit Racey')\n",
    "clock = pygame.time.Clock()\n",
    "\n",
    "carImg = pygame.image.load('racecar.jpg')\n",
    "\n",
    "#######\n",
    "def things(thingx, thingy, thingw, thingh, color):\n",
    "    pygame.draw.rect(gameDisplay, color, [thingx, thingy, thingw, thingh])\n",
    "#######\n",
    "\n",
    "\n",
    "def car(x,y):\n",
    "    gameDisplay.blit(carImg,(x,y))\n",
    "\n",
    "def text_objects(text, font):\n",
    "    textSurface = font.render(text, True, black)\n",
    "    return textSurface, textSurface.get_rect()\n",
    "\n",
    "def message_display(text):\n",
    "    largeText = pygame.font.Font('freesansbold.ttf',115)\n",
    "    TextSurf, TextRect = text_objects(text, largeText)\n",
    "    TextRect.center = ((display_width/2),(display_height/2))\n",
    "    gameDisplay.blit(TextSurf, TextRect)\n",
    "\n",
    "    pygame.display.update()\n",
    "\n",
    "    time.sleep(2)\n",
    "\n",
    "    game_loop()\n",
    "    \n",
    "    \n",
    "\n",
    "def crash():\n",
    "    message_display('You Crashed')\n",
    "    \n",
    "def game_loop():\n",
    "    x = (display_width * 0.45)\n",
    "    y = (display_height * 0.8)\n",
    "\n",
    "    x_change = 0\n",
    "######\n",
    "    thing_startx = random.randrange(0, display_width)\n",
    "    thing_starty = -600\n",
    "    thing_speed = 7\n",
    "    thing_width = 100\n",
    "    thing_height = 100\n",
    "######\n",
    "    gameExit = False\n",
    "\n",
    "    while not gameExit:\n",
    "\n",
    "        for event in pygame.event.get():\n",
    "            if event.type == pygame.QUIT:\n",
    "                pygame.quit()\n",
    "                quit()\n",
    "\n",
    "            if event.type == pygame.KEYDOWN:\n",
    "                if event.key == pygame.K_LEFT:\n",
    "                    x_change = -5\n",
    "                if event.key == pygame.K_RIGHT:\n",
    "                    x_change = 5\n",
    "\n",
    "            if event.type == pygame.KEYUP:\n",
    "                if event.key == pygame.K_LEFT or event.key == pygame.K_RIGHT:\n",
    "                    x_change = 0\n",
    "\n",
    "        x += x_change\n",
    "        gameDisplay.fill(white)\n",
    "\n",
    "     ##########\n",
    "        # things(thingx, thingy, thingw, thingh, color)\n",
    "        things(thing_startx, thing_starty, thing_width, thing_height, black)\n",
    "        thing_starty += thing_speed\n",
    "        car(x,y)\n",
    "     ##########\n",
    "        if x > display_width - car_width or x < 0:\n",
    "            crash()\n",
    "\n",
    "        if thing_starty > display_height:\n",
    "            thing_starty = 0 - thing_height\n",
    "            thing_startx = random.randrange(0,display_width)\n",
    "            \n",
    "        \n",
    "        pygame.display.update()\n",
    "        clock.tick(60)\n",
    "\n",
    "\n",
    "\n",
    "game_loop()\n",
    "pygame.quit()\n",
    "quit()"
   ]
  },
  {
   "cell_type": "code",
   "execution_count": null,
   "metadata": {},
   "outputs": [],
   "source": [
    "import pygame\n",
    "\n",
    "pygame.init()\n",
    "\n",
    "white = (255,255,255)\n",
    "black = (0,0,0)\n",
    "\n",
    "red = (255,0,0)\n",
    "green = (0,255,0)\n",
    "blue = (0,0,255)\n",
    "\n",
    "gameDisplay = pygame.display.set_mode((800,600))\n",
    "gameDisplay.fill(black)"
   ]
  },
  {
   "cell_type": "code",
   "execution_count": 3,
   "metadata": {},
   "outputs": [
    {
     "ename": "NameError",
     "evalue": "name 'WINDOWWIDTH' is not defined",
     "output_type": "error",
     "traceback": [
      "\u001b[1;31m---------------------------------------------------------------------------\u001b[0m",
      "\u001b[1;31mNameError\u001b[0m                                 Traceback (most recent call last)",
      "\u001b[1;32m<ipython-input-3-a596703b5e1b>\u001b[0m in \u001b[0;36m<module>\u001b[1;34m()\u001b[0m\n\u001b[0;32m     12\u001b[0m \u001b[0mgameDisplay\u001b[0m\u001b[1;33m.\u001b[0m\u001b[0mfill\u001b[0m\u001b[1;33m(\u001b[0m\u001b[0mWHITE\u001b[0m\u001b[1;33m)\u001b[0m\u001b[1;33m\u001b[0m\u001b[0m\n\u001b[0;32m     13\u001b[0m \u001b[0mthing\u001b[0m \u001b[1;33m=\u001b[0m \u001b[0mpygame\u001b[0m\u001b[1;33m.\u001b[0m\u001b[0mdraw\u001b[0m\u001b[1;33m.\u001b[0m\u001b[0mrect\u001b[0m\u001b[1;33m(\u001b[0m\u001b[0mgameDisplay\u001b[0m\u001b[1;33m,\u001b[0m \u001b[0mred\u001b[0m\u001b[1;33m,\u001b[0m \u001b[1;33m(\u001b[0m\u001b[1;36m400\u001b[0m\u001b[1;33m,\u001b[0m\u001b[1;36m400\u001b[0m\u001b[1;33m,\u001b[0m\u001b[1;36m50\u001b[0m\u001b[1;33m,\u001b[0m\u001b[1;36m25\u001b[0m\u001b[1;33m)\u001b[0m\u001b[1;33m)\u001b[0m\u001b[1;33m\u001b[0m\u001b[0m\n\u001b[1;32m---> 14\u001b[1;33m \u001b[0mscreen\u001b[0m \u001b[1;33m=\u001b[0m \u001b[0mpygame\u001b[0m\u001b[1;33m.\u001b[0m\u001b[0mdisplay\u001b[0m\u001b[1;33m.\u001b[0m\u001b[0mset_mode\u001b[0m\u001b[1;33m(\u001b[0m\u001b[1;33m(\u001b[0m\u001b[0mWINDOWWIDTH\u001b[0m\u001b[1;33m,\u001b[0m \u001b[0mWINDOWHEIGHT\u001b[0m\u001b[1;33m)\u001b[0m\u001b[1;33m,\u001b[0m \u001b[1;36m0\u001b[0m\u001b[1;33m,\u001b[0m \u001b[1;36m32\u001b[0m\u001b[1;33m)\u001b[0m\u001b[1;33m\u001b[0m\u001b[0m\n\u001b[0m\u001b[0;32m     15\u001b[0m \u001b[0mpygame\u001b[0m\u001b[1;33m.\u001b[0m\u001b[0mdisplay\u001b[0m\u001b[1;33m.\u001b[0m\u001b[0mset_caption\u001b[0m\u001b[1;33m(\u001b[0m\u001b[1;34m'Teh test'\u001b[0m\u001b[1;33m)\u001b[0m\u001b[1;33m\u001b[0m\u001b[0m\n\u001b[0;32m     16\u001b[0m \u001b[0mleft\u001b[0m \u001b[1;33m=\u001b[0m \u001b[1;32mFalse\u001b[0m\u001b[1;33m\u001b[0m\u001b[0m\n",
      "\u001b[1;31mNameError\u001b[0m: name 'WINDOWWIDTH' is not defined"
     ]
    }
   ],
   "source": [
    "import pygame, sys\n",
    "from pygame.locals import *\n",
    "pygame.init()\n",
    "mainClock = pygame.time.Clock()\n",
    "degree = 0\n",
    "WHITE = 250,250,250\n",
    "rect2 = pygame.rect = (100,100,50,50)\n",
    "\n",
    "red=0,0,100\n",
    "\n",
    "gameDisplay = pygame.display.set_mode((800,600))\n",
    "gameDisplay.fill(WHITE)\n",
    "thing = pygame.draw.rect(gameDisplay, red, (400,400,50,25))\n",
    "screen = pygame.display.set_mode((WINDOWWIDTH, WINDOWHEIGHT), 0, 32)\n",
    "pygame.display.set_caption('Teh test')\n",
    "left = False\n",
    "right = False\n",
    "while True:\n",
    "    rect2 = pygame.rect = (100,100,50,50)\n",
    "    if right == True:\n",
    "        degree -= 2\n",
    "    if left == True:\n",
    "        degree += 2\n",
    "    for event in pygame.event.get():\n",
    "        if event.type == QUIT:\n",
    "            pygame.quit()\n",
    "            sys.exit()\n",
    "        if event.type == KEYDOWN:\n",
    "            if event.key == ord('a'):\n",
    "                left = True\n",
    "            if event.key == ord('d'):\n",
    "                right = True\n",
    "        if event.type == KEYUP:\n",
    "            if event.key == ord('a'):\n",
    "                left = False\n",
    "            if event.key == ord('d'):\n",
    "                right = False\n",
    "    pygame.draw.rect(screen,WHITE,rect2)\n",
    "    screen.fill((40, 40, 40))\n",
    "    thing2 = pygame.transform.rotate(thing,degree)\n",
    "    screen.blit(thing2,(100,100))\n",
    "    pygame.display.update()\n",
    "    mainClock.tick(60)"
   ]
  },
  {
   "cell_type": "code",
   "execution_count": null,
   "metadata": {},
   "outputs": [],
   "source": []
  }
 ],
 "metadata": {
  "kernelspec": {
   "display_name": "Python 3",
   "language": "python",
   "name": "python3"
  },
  "language_info": {
   "codemirror_mode": {
    "name": "ipython",
    "version": 3
   },
   "file_extension": ".py",
   "mimetype": "text/x-python",
   "name": "python",
   "nbconvert_exporter": "python",
   "pygments_lexer": "ipython3",
   "version": "3.6.4"
  }
 },
 "nbformat": 4,
 "nbformat_minor": 2
}
